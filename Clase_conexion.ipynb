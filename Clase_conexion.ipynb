{
 "cells": [
  {
   "cell_type": "code",
   "execution_count": 3,
   "metadata": {},
   "outputs": [
    {
     "name": "stdout",
     "output_type": "stream",
     "text": [
      "\u001b[33mDEPRECATION: Python 2.7 reached the end of its life on January 1st, 2020. Please upgrade your Python as Python 2.7 is no longer maintained. pip 21.0 will drop support for Python 2.7 in January 2021. More details about Python 2 support in pip can be found at https://pip.pypa.io/en/latest/development/release-process/#python-2-support pip 21.0 will remove support for this functionality.\u001b[0m\n",
      "Defaulting to user installation because normal site-packages is not writeable\n",
      "Requirement already satisfied: Flask in ./Library/Python/2.7/lib/python/site-packages (1.1.4)\n",
      "Requirement already satisfied: itsdangerous<2.0,>=0.24 in ./Library/Python/2.7/lib/python/site-packages (from Flask) (1.1.0)\n",
      "Requirement already satisfied: click<8.0,>=5.1 in ./Library/Python/2.7/lib/python/site-packages (from Flask) (7.1.2)\n",
      "Requirement already satisfied: Jinja2<3.0,>=2.10.1 in ./Library/Python/2.7/lib/python/site-packages (from Flask) (2.11.3)\n",
      "Requirement already satisfied: Werkzeug<2.0,>=0.15 in ./Library/Python/2.7/lib/python/site-packages (from Flask) (1.0.1)\n",
      "Requirement already satisfied: MarkupSafe>=0.23 in ./Library/Python/2.7/lib/python/site-packages (from Jinja2<3.0,>=2.10.1->Flask) (1.1.1)\n",
      "\u001b[33mDEPRECATION: Python 2.7 reached the end of its life on January 1st, 2020. Please upgrade your Python as Python 2.7 is no longer maintained. pip 21.0 will drop support for Python 2.7 in January 2021. More details about Python 2 support in pip can be found at https://pip.pypa.io/en/latest/development/release-process/#python-2-support pip 21.0 will remove support for this functionality.\u001b[0m\n",
      "Defaulting to user installation because normal site-packages is not writeable\n",
      "Requirement already satisfied: Flask-JSON in ./Library/Python/2.7/lib/python/site-packages (0.3.4)\n",
      "Requirement already satisfied: Flask>=0.10 in ./Library/Python/2.7/lib/python/site-packages (from Flask-JSON) (1.1.4)\n",
      "Requirement already satisfied: itsdangerous<2.0,>=0.24 in ./Library/Python/2.7/lib/python/site-packages (from Flask>=0.10->Flask-JSON) (1.1.0)\n",
      "Requirement already satisfied: click<8.0,>=5.1 in ./Library/Python/2.7/lib/python/site-packages (from Flask>=0.10->Flask-JSON) (7.1.2)\n",
      "Requirement already satisfied: Jinja2<3.0,>=2.10.1 in ./Library/Python/2.7/lib/python/site-packages (from Flask>=0.10->Flask-JSON) (2.11.3)\n",
      "Requirement already satisfied: Werkzeug<2.0,>=0.15 in ./Library/Python/2.7/lib/python/site-packages (from Flask>=0.10->Flask-JSON) (1.0.1)\n",
      "Requirement already satisfied: MarkupSafe>=0.23 in ./Library/Python/2.7/lib/python/site-packages (from Jinja2<3.0,>=2.10.1->Flask>=0.10->Flask-JSON) (1.1.1)\n"
     ]
    }
   ],
   "source": [
    "!pip install Flask\n",
    "!pip install Flask-JSON"
   ]
  },
  {
   "cell_type": "code",
   "execution_count": 4,
   "metadata": {},
   "outputs": [
    {
     "name": "stdout",
     "output_type": "stream",
     "text": [
      " * Serving Flask app '__main__'\n",
      " * Debug mode: off\n"
     ]
    },
    {
     "name": "stderr",
     "output_type": "stream",
     "text": [
      "\u001b[31m\u001b[1mWARNING: This is a development server. Do not use it in a production deployment. Use a production WSGI server instead.\u001b[0m\n",
      " * Running on http://127.0.0.1:4001\n",
      "\u001b[33mPress CTRL+C to quit\u001b[0m\n"
     ]
    }
   ],
   "source": [
    "from flask import Flask, request\n",
    "#from flask_json import FlaskJSON, JsonError, json_response, as_json\n",
    "\n",
    "app = Flask(__name__)\n",
    "#json= FlaskJSON(app)\n",
    "\n",
    "@app.route(\"/agentpy_json\", methods = ['POST'])\n",
    "\n",
    "def agentpy_send_data():\n",
    "    data=request.get_json(force=True)\n",
    "    print(data)\n",
    "    return \"<p>Hell, oWorl!</p>d\"\n",
    "\n",
    "if __name__ == '__main__':\n",
    "    app.run(port=4001)"
   ]
  },
  {
   "cell_type": "code",
   "execution_count": null,
   "metadata": {},
   "outputs": [],
   "source": [
    "import requests\n",
    "\n",
    "URL = \"http://127.0.0.1:4001\"\n",
    "\n",
    "json_example = {'agente': 1,\n",
    "'posicion':{\n",
    "    'x' : 10,\n",
    "    'y' : 20\n",
    "}}\n",
    "\n",
    "\n",
    "r= request.post(url=URL+\"/agentpy_json\",json=json_example)\n",
    "print(r.text)"
   ]
  }
 ],
 "metadata": {
  "kernelspec": {
   "display_name": "Python 3.9.5 64-bit",
   "language": "python",
   "name": "python3"
  },
  "language_info": {
   "codemirror_mode": {
    "name": "ipython",
    "version": 3
   },
   "file_extension": ".py",
   "mimetype": "text/x-python",
   "name": "python",
   "nbconvert_exporter": "python",
   "pygments_lexer": "ipython3",
   "version": "3.9.5"
  },
  "orig_nbformat": 4,
  "vscode": {
   "interpreter": {
    "hash": "aee8b7b246df8f9039afb4144a1f6fd8d2ca17a180786b69acc140d282b71a49"
   }
  }
 },
 "nbformat": 4,
 "nbformat_minor": 2
}
